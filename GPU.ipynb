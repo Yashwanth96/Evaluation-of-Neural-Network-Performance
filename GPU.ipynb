{
  "nbformat": 4,
  "nbformat_minor": 0,
  "metadata": {
    "colab": {
      "name": "GPU",
      "provenance": []
    },
    "kernelspec": {
      "name": "python3",
      "display_name": "Python 3"
    },
    "language_info": {
      "name": "python"
    },
    "accelerator": "GPU"
  },
  "cells": [
    {
      "cell_type": "code",
      "metadata": {
        "colab": {
          "base_uri": "https://localhost:8080/",
          "height": 810
        },
        "id": "G7Uyf36o88qa",
        "outputId": "a9cffe4c-9747-4856-e777-8f98c73aaf1d"
      },
      "source": [
        "pip install tensorflow==1.13.1"
      ],
      "execution_count": null,
      "outputs": [
        {
          "output_type": "stream",
          "text": [
            "Collecting tensorflow==1.13.1\n",
            "\u001b[?25l  Downloading https://files.pythonhosted.org/packages/d4/29/6b4f1e02417c3a1ccc85380f093556ffd0b35dc354078074c5195c8447f2/tensorflow-1.13.1-cp37-cp37m-manylinux1_x86_64.whl (92.6MB)\n",
            "\u001b[K     |████████████████████████████████| 92.6MB 55kB/s \n",
            "\u001b[?25hRequirement already satisfied: protobuf>=3.6.1 in /usr/local/lib/python3.7/dist-packages (from tensorflow==1.13.1) (3.12.4)\n",
            "Requirement already satisfied: termcolor>=1.1.0 in /usr/local/lib/python3.7/dist-packages (from tensorflow==1.13.1) (1.1.0)\n",
            "Collecting keras-applications>=1.0.6\n",
            "\u001b[?25l  Downloading https://files.pythonhosted.org/packages/71/e3/19762fdfc62877ae9102edf6342d71b28fbfd9dea3d2f96a882ce099b03f/Keras_Applications-1.0.8-py3-none-any.whl (50kB)\n",
            "\u001b[K     |████████████████████████████████| 51kB 4.0MB/s \n",
            "\u001b[?25hRequirement already satisfied: numpy>=1.13.3 in /usr/local/lib/python3.7/dist-packages (from tensorflow==1.13.1) (1.19.5)\n",
            "Requirement already satisfied: grpcio>=1.8.6 in /usr/local/lib/python3.7/dist-packages (from tensorflow==1.13.1) (1.32.0)\n",
            "Collecting tensorboard<1.14.0,>=1.13.0\n",
            "\u001b[?25l  Downloading https://files.pythonhosted.org/packages/0f/39/bdd75b08a6fba41f098b6cb091b9e8c7a80e1b4d679a581a0ccd17b10373/tensorboard-1.13.1-py3-none-any.whl (3.2MB)\n",
            "\u001b[K     |████████████████████████████████| 3.2MB 20.5MB/s \n",
            "\u001b[?25hRequirement already satisfied: wheel>=0.26 in /usr/local/lib/python3.7/dist-packages (from tensorflow==1.13.1) (0.36.2)\n",
            "Requirement already satisfied: keras-preprocessing>=1.0.5 in /usr/local/lib/python3.7/dist-packages (from tensorflow==1.13.1) (1.1.2)\n",
            "Requirement already satisfied: astor>=0.6.0 in /usr/local/lib/python3.7/dist-packages (from tensorflow==1.13.1) (0.8.1)\n",
            "Requirement already satisfied: gast>=0.2.0 in /usr/local/lib/python3.7/dist-packages (from tensorflow==1.13.1) (0.3.3)\n",
            "Requirement already satisfied: absl-py>=0.1.6 in /usr/local/lib/python3.7/dist-packages (from tensorflow==1.13.1) (0.12.0)\n",
            "Collecting tensorflow-estimator<1.14.0rc0,>=1.13.0\n",
            "\u001b[?25l  Downloading https://files.pythonhosted.org/packages/bb/48/13f49fc3fa0fdf916aa1419013bb8f2ad09674c275b4046d5ee669a46873/tensorflow_estimator-1.13.0-py2.py3-none-any.whl (367kB)\n",
            "\u001b[K     |████████████████████████████████| 368kB 22.1MB/s \n",
            "\u001b[?25hRequirement already satisfied: six>=1.10.0 in /usr/local/lib/python3.7/dist-packages (from tensorflow==1.13.1) (1.15.0)\n",
            "Requirement already satisfied: setuptools in /usr/local/lib/python3.7/dist-packages (from protobuf>=3.6.1->tensorflow==1.13.1) (56.1.0)\n",
            "Requirement already satisfied: h5py in /usr/local/lib/python3.7/dist-packages (from keras-applications>=1.0.6->tensorflow==1.13.1) (2.10.0)\n",
            "Requirement already satisfied: werkzeug>=0.11.15 in /usr/local/lib/python3.7/dist-packages (from tensorboard<1.14.0,>=1.13.0->tensorflow==1.13.1) (2.0.0)\n",
            "Requirement already satisfied: markdown>=2.6.8 in /usr/local/lib/python3.7/dist-packages (from tensorboard<1.14.0,>=1.13.0->tensorflow==1.13.1) (3.3.4)\n",
            "Collecting mock>=2.0.0\n",
            "  Downloading https://files.pythonhosted.org/packages/5c/03/b7e605db4a57c0f6fba744b11ef3ddf4ddebcada35022927a2b5fc623fdf/mock-4.0.3-py3-none-any.whl\n",
            "Requirement already satisfied: importlib-metadata; python_version < \"3.8\" in /usr/local/lib/python3.7/dist-packages (from markdown>=2.6.8->tensorboard<1.14.0,>=1.13.0->tensorflow==1.13.1) (2.1.1)\n",
            "Requirement already satisfied: zipp>=0.5 in /usr/local/lib/python3.7/dist-packages (from importlib-metadata; python_version < \"3.8\"->markdown>=2.6.8->tensorboard<1.14.0,>=1.13.0->tensorflow==1.13.1) (3.4.1)\n",
            "Installing collected packages: keras-applications, tensorboard, mock, tensorflow-estimator, tensorflow\n",
            "  Found existing installation: tensorboard 2.4.1\n",
            "    Uninstalling tensorboard-2.4.1:\n",
            "      Successfully uninstalled tensorboard-2.4.1\n",
            "  Found existing installation: tensorflow-estimator 2.4.0\n",
            "    Uninstalling tensorflow-estimator-2.4.0:\n",
            "      Successfully uninstalled tensorflow-estimator-2.4.0\n",
            "  Found existing installation: tensorflow 2.4.1\n",
            "    Uninstalling tensorflow-2.4.1:\n",
            "      Successfully uninstalled tensorflow-2.4.1\n",
            "Successfully installed keras-applications-1.0.8 mock-4.0.3 tensorboard-1.13.1 tensorflow-1.13.1 tensorflow-estimator-1.13.0\n"
          ],
          "name": "stdout"
        },
        {
          "output_type": "display_data",
          "data": {
            "application/vnd.colab-display-data+json": {
              "pip_warning": {
                "packages": [
                  "tensorboard",
                  "tensorflow"
                ]
              }
            }
          },
          "metadata": {
            "tags": []
          }
        }
      ]
    },
    {
      "cell_type": "code",
      "metadata": {
        "id": "s9Rc8f8asyNn"
      },
      "source": [
        "%%capture\n",
        "!pip install watermark"
      ],
      "execution_count": null,
      "outputs": []
    },
    {
      "cell_type": "code",
      "metadata": {
        "colab": {
          "base_uri": "https://localhost:8080/"
        },
        "id": "yHXI-MHEsqOx",
        "outputId": "26c1e8c7-174e-4f0f-de70-ddcf36c41619"
      },
      "source": [
        "%load_ext watermark\n",
        "%watermark -p tensorflow,numpy -m"
      ],
      "execution_count": null,
      "outputs": [
        {
          "output_type": "stream",
          "text": [
            "tensorflow: 2.4.1\n",
            "numpy     : 1.19.5\n",
            "\n",
            "Compiler    : GCC 7.5.0\n",
            "OS          : Linux\n",
            "Release     : 5.4.109+\n",
            "Machine     : x86_64\n",
            "Processor   : x86_64\n",
            "CPU cores   : 2\n",
            "Architecture: 64bit\n",
            "\n"
          ],
          "name": "stdout"
        }
      ]
    },
    {
      "cell_type": "code",
      "metadata": {
        "id": "TeTWztZC9sN-"
      },
      "source": [
        "import os\n",
        "import tensorflow as tf\n",
        "from sklearn.model_selection import StratifiedShuffleSplit\n",
        "import numpy as np\n",
        "import pandas as pd\n",
        "from tensorflow.keras.models import Sequential\n",
        "from tensorflow.keras.layers import BatchNormalization, Conv2D, MaxPooling2D, Dropout, Flatten, Dense, Activation\n"
      ],
      "execution_count": null,
      "outputs": []
    },
    {
      "cell_type": "code",
      "metadata": {
        "id": "_hwkW-0q-RFW",
        "colab": {
          "base_uri": "https://localhost:8080/"
        },
        "outputId": "ae408197-bf67-4f8e-a244-209347f35a88"
      },
      "source": [
        "(x_tr, y_tr), (x_t, y_t) = tf.keras.datasets.fashion_mnist.load_data()\n",
        "x_tr=np.expand_dims(x_tr,-1)\n",
        "x_t=np.expand_dims(x_t,-1)"
      ],
      "execution_count": null,
      "outputs": [
        {
          "output_type": "stream",
          "text": [
            "Downloading data from https://storage.googleapis.com/tensorflow/tf-keras-datasets/train-labels-idx1-ubyte.gz\n",
            "32768/29515 [=================================] - 0s 0us/step\n",
            "Downloading data from https://storage.googleapis.com/tensorflow/tf-keras-datasets/train-images-idx3-ubyte.gz\n",
            "26427392/26421880 [==============================] - 0s 0us/step\n",
            "Downloading data from https://storage.googleapis.com/tensorflow/tf-keras-datasets/t10k-labels-idx1-ubyte.gz\n",
            "8192/5148 [===============================================] - 0s 0us/step\n",
            "Downloading data from https://storage.googleapis.com/tensorflow/tf-keras-datasets/t10k-images-idx3-ubyte.gz\n",
            "4423680/4422102 [==============================] - 0s 0us/step\n"
          ],
          "name": "stdout"
        }
      ]
    },
    {
      "cell_type": "code",
      "metadata": {
        "colab": {
          "base_uri": "https://localhost:8080/"
        },
        "id": "ooTRmLAqNfkL",
        "outputId": "4786a08b-4041-46da-f9a2-c1359c990629"
      },
      "source": [
        "shuffle = StratifiedShuffleSplit(n_splits=5, random_state=0, test_size=1/6)\n",
        "tr_idx, val_idx = next(shuffle.split(x_tr, y_tr))\n",
        "x_val, y_val = x_tr[val_idx], y_tr[val_idx]\n",
        "x_tr, y_tr = x_tr[tr_idx], y_tr[tr_idx]\n",
        "print(x_tr.shape, x_val.shape, x_t.shape)"
      ],
      "execution_count": null,
      "outputs": [
        {
          "output_type": "stream",
          "text": [
            "(50000, 28, 28, 1) (10000, 28, 28, 1) (10000, 28, 28, 1)\n"
          ],
          "name": "stdout"
        }
      ]
    },
    {
      "cell_type": "code",
      "metadata": {
        "colab": {
          "base_uri": "https://localhost:8080/"
        },
        "id": "heeDk8XSO7Qe",
        "outputId": "28eb0480-fe3f-44a5-f372-d3dac1c30cd1"
      },
      "source": [
        "model= Sequential()\n",
        "model.add(BatchNormalization(input_shape=x_tr.shape[1:]))\n",
        "model.add(Conv2D(64, (5, 5), padding='same', activation='relu'))\n",
        "model.add(MaxPooling2D(pool_size=(2, 2), strides=(2,2)))\n",
        "model.add(Dropout(0.3))\n",
        "model.add(BatchNormalization(input_shape=x_tr.shape[1:]))\n",
        "model.add(Conv2D(128, (5, 5), padding='same', activation='relu'))\n",
        "model.add(MaxPooling2D(pool_size=(2, 2), strides=(2,2)))\n",
        "model.add(Dropout(0.3))\n",
        "model.add(Flatten())\n",
        "model.add(Dense(128))\n",
        "model.add(Activation('relu'))\n",
        "model.add(Dropout(0.5))\n",
        "model.add(Dense(10))\n",
        "model.add(Activation('softmax'))\n",
        "model.summary()"
      ],
      "execution_count": null,
      "outputs": [
        {
          "output_type": "stream",
          "text": [
            "Model: \"sequential\"\n",
            "_________________________________________________________________\n",
            "Layer (type)                 Output Shape              Param #   \n",
            "=================================================================\n",
            "batch_normalization (BatchNo (None, 28, 28, 1)         4         \n",
            "_________________________________________________________________\n",
            "conv2d (Conv2D)              (None, 28, 28, 64)        1664      \n",
            "_________________________________________________________________\n",
            "max_pooling2d (MaxPooling2D) (None, 14, 14, 64)        0         \n",
            "_________________________________________________________________\n",
            "dropout (Dropout)            (None, 14, 14, 64)        0         \n",
            "_________________________________________________________________\n",
            "batch_normalization_1 (Batch (None, 14, 14, 64)        256       \n",
            "_________________________________________________________________\n",
            "conv2d_1 (Conv2D)            (None, 14, 14, 128)       204928    \n",
            "_________________________________________________________________\n",
            "max_pooling2d_1 (MaxPooling2 (None, 7, 7, 128)         0         \n",
            "_________________________________________________________________\n",
            "dropout_1 (Dropout)          (None, 7, 7, 128)         0         \n",
            "_________________________________________________________________\n",
            "flatten (Flatten)            (None, 6272)              0         \n",
            "_________________________________________________________________\n",
            "dense (Dense)                (None, 128)               802944    \n",
            "_________________________________________________________________\n",
            "activation (Activation)      (None, 128)               0         \n",
            "_________________________________________________________________\n",
            "dropout_2 (Dropout)          (None, 128)               0         \n",
            "_________________________________________________________________\n",
            "dense_1 (Dense)              (None, 10)                1290      \n",
            "_________________________________________________________________\n",
            "activation_1 (Activation)    (None, 10)                0         \n",
            "=================================================================\n",
            "Total params: 1,011,086\n",
            "Trainable params: 1,010,956\n",
            "Non-trainable params: 130\n",
            "_________________________________________________________________\n"
          ],
          "name": "stdout"
        }
      ]
    },
    {
      "cell_type": "code",
      "metadata": {
        "id": "NqmznuP9a42G"
      },
      "source": [
        "model.compile(optimizer=tf.optimizers.Adam(learning_rate=1e-3, ),\n",
        "    loss=tf.keras.losses.sparse_categorical_crossentropy,\n",
        "    metrics=['sparse_categorical_accuracy']\n",
        ")"
      ],
      "execution_count": null,
      "outputs": []
    },
    {
      "cell_type": "code",
      "metadata": {
        "colab": {
          "base_uri": "https://localhost:8080/"
        },
        "id": "8cWqu4MjtjbZ",
        "outputId": "be55783b-43af-4336-b8df-345d52930747"
      },
      "source": [
        "%%time\n",
        "def train_gen(batch_size):\n",
        "  while 1:\n",
        "    idx = np.random.randint(0, x_tr.shape[0] - batch_size)\n",
        "    yield x_tr[idx:idx+batch_size], y_tr[idx:idx + batch_size]\n",
        "    \n",
        "\n",
        "model.fit_generator(train_gen(512),epochs=15,steps_per_epoch=100,validation_data=(x_val, y_val))"
      ],
      "execution_count": null,
      "outputs": [
        {
          "output_type": "stream",
          "text": [
            "/usr/local/lib/python3.7/dist-packages/tensorflow/python/keras/engine/training.py:1844: UserWarning: `Model.fit_generator` is deprecated and will be removed in a future version. Please use `Model.fit`, which supports generators.\n",
            "  warnings.warn('`Model.fit_generator` is deprecated and '\n"
          ],
          "name": "stderr"
        },
        {
          "output_type": "stream",
          "text": [
            "Epoch 1/15\n",
            "100/100 [==============================] - 37s 44ms/step - loss: 1.8261 - sparse_categorical_accuracy: 0.4587 - val_loss: 1.3498 - val_sparse_categorical_accuracy: 0.8038\n",
            "Epoch 2/15\n",
            "100/100 [==============================] - 4s 39ms/step - loss: 0.7914 - sparse_categorical_accuracy: 0.7104 - val_loss: 0.9761 - val_sparse_categorical_accuracy: 0.8377\n",
            "Epoch 3/15\n",
            "100/100 [==============================] - 4s 40ms/step - loss: 0.6672 - sparse_categorical_accuracy: 0.7592 - val_loss: 0.6685 - val_sparse_categorical_accuracy: 0.8536\n",
            "Epoch 4/15\n",
            "100/100 [==============================] - 4s 40ms/step - loss: 0.5887 - sparse_categorical_accuracy: 0.7848 - val_loss: 0.4992 - val_sparse_categorical_accuracy: 0.8684\n",
            "Epoch 5/15\n",
            "100/100 [==============================] - 4s 40ms/step - loss: 0.5579 - sparse_categorical_accuracy: 0.7993 - val_loss: 0.3735 - val_sparse_categorical_accuracy: 0.8832\n",
            "Epoch 6/15\n",
            "100/100 [==============================] - 4s 40ms/step - loss: 0.5067 - sparse_categorical_accuracy: 0.8157 - val_loss: 0.3229 - val_sparse_categorical_accuracy: 0.8917\n",
            "Epoch 7/15\n",
            "100/100 [==============================] - 4s 40ms/step - loss: 0.4746 - sparse_categorical_accuracy: 0.8261 - val_loss: 0.3030 - val_sparse_categorical_accuracy: 0.8919\n",
            "Epoch 8/15\n",
            "100/100 [==============================] - 4s 40ms/step - loss: 0.4484 - sparse_categorical_accuracy: 0.8333 - val_loss: 0.2805 - val_sparse_categorical_accuracy: 0.8994\n",
            "Epoch 9/15\n",
            "100/100 [==============================] - 4s 40ms/step - loss: 0.4336 - sparse_categorical_accuracy: 0.8424 - val_loss: 0.2647 - val_sparse_categorical_accuracy: 0.9067\n",
            "Epoch 10/15\n",
            "100/100 [==============================] - 4s 40ms/step - loss: 0.4200 - sparse_categorical_accuracy: 0.8451 - val_loss: 0.2586 - val_sparse_categorical_accuracy: 0.9041\n",
            "Epoch 11/15\n",
            "100/100 [==============================] - 4s 40ms/step - loss: 0.4159 - sparse_categorical_accuracy: 0.8480 - val_loss: 0.2559 - val_sparse_categorical_accuracy: 0.9053\n",
            "Epoch 12/15\n",
            "100/100 [==============================] - 4s 41ms/step - loss: 0.3930 - sparse_categorical_accuracy: 0.8544 - val_loss: 0.2588 - val_sparse_categorical_accuracy: 0.9084\n",
            "Epoch 13/15\n",
            "100/100 [==============================] - 4s 40ms/step - loss: 0.3767 - sparse_categorical_accuracy: 0.8577 - val_loss: 0.2482 - val_sparse_categorical_accuracy: 0.9106\n",
            "Epoch 14/15\n",
            "100/100 [==============================] - 4s 41ms/step - loss: 0.3547 - sparse_categorical_accuracy: 0.8672 - val_loss: 0.2380 - val_sparse_categorical_accuracy: 0.9116\n",
            "Epoch 15/15\n",
            "100/100 [==============================] - 4s 41ms/step - loss: 0.3495 - sparse_categorical_accuracy: 0.8698 - val_loss: 0.2341 - val_sparse_categorical_accuracy: 0.9171\n",
            "CPU times: user 50.1 s, sys: 3.49 s, total: 53.6 s\n",
            "Wall time: 1min 33s\n"
          ],
          "name": "stdout"
        }
      ]
    },
    {
      "cell_type": "code",
      "metadata": {
        "id": "1nU1ynW4TmQj"
      },
      "source": [
        "g=[37,4,4,4,4,4,4,4,4,4,4,4,4,4,4]"
      ],
      "execution_count": null,
      "outputs": []
    },
    {
      "cell_type": "code",
      "metadata": {
        "colab": {
          "base_uri": "https://localhost:8080/"
        },
        "id": "P0W0rVtITxGL",
        "outputId": "d6e47f83-0f6a-4d5a-c8b8-e908c52d4701"
      },
      "source": [
        "len(g)"
      ],
      "execution_count": null,
      "outputs": [
        {
          "output_type": "execute_result",
          "data": {
            "text/plain": [
              "15"
            ]
          },
          "metadata": {
            "tags": []
          },
          "execution_count": 5
        }
      ]
    },
    {
      "cell_type": "code",
      "metadata": {
        "id": "S2TffQAlT68J",
        "colab": {
          "base_uri": "https://localhost:8080/"
        },
        "outputId": "dd512214-a038-4075-dcd0-0d440b408ed0"
      },
      "source": [
        "sum(g)"
      ],
      "execution_count": null,
      "outputs": [
        {
          "output_type": "execute_result",
          "data": {
            "text/plain": [
              "93"
            ]
          },
          "metadata": {
            "tags": []
          },
          "execution_count": 6
        }
      ]
    },
    {
      "cell_type": "markdown",
      "metadata": {
        "id": "y6EDKlIa0mKJ"
      },
      "source": [
        ""
      ]
    }
  ]
}